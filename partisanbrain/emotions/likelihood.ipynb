{
 "cells": [
  {
   "cell_type": "code",
   "execution_count": 21,
   "metadata": {},
   "outputs": [],
   "source": [
    "import pandas as pd\n",
    "import numpy as np\n",
    "import os"
   ]
  },
  {
   "cell_type": "code",
   "execution_count": 24,
   "metadata": {},
   "outputs": [
    {
     "data": {
      "text/plain": [
       "['rand_masked_likelihood.npz',\n",
       " 'masked_likelihood.npz',\n",
       " 'no_masked_likelihood.npz']"
      ]
     },
     "execution_count": 24,
     "metadata": {},
     "output_type": "execute_result"
    }
   ],
   "source": [
    "directory = \"output/experiment1\"\n",
    "filenames = list(\n",
    "    filter(lambda filename: filename.endswith(\"likelihood.npz\"), os.listdir(directory))\n",
    ")\n",
    "filenames"
   ]
  },
  {
   "cell_type": "code",
   "execution_count": 34,
   "metadata": {},
   "outputs": [],
   "source": [
    "df = pd.read_csv(\"data/train_data_binary.csv\")\n",
    "pos_mask = df.label == 1\n",
    "neg_mask = df.label == 0"
   ]
  },
  {
   "cell_type": "code",
   "execution_count": 37,
   "metadata": {},
   "outputs": [],
   "source": [
    "def load_npz(filename):\n",
    "    array_dict = np.load(os.path.join(directory, filename))\n",
    "    return np.array([array_dict[key] for key in array_dict], dtype=object)"
   ]
  },
  {
   "cell_type": "code",
   "execution_count": 38,
   "metadata": {},
   "outputs": [],
   "source": [
    "likelihoods = {\n",
    "    filename.split('.')[0]: load_npz(filename)\n",
    "    for filename in filenames\n",
    "}"
   ]
  },
  {
   "cell_type": "code",
   "execution_count": 47,
   "metadata": {},
   "outputs": [],
   "source": [
    "def get_average_likelihood(probs, mask):\n",
    "    likelihoods = [sum(sequence) for sequence in probs[mask]]\n",
    "    return np.mean(np.exp(likelihoods))"
   ]
  },
  {
   "cell_type": "code",
   "execution_count": 50,
   "metadata": {},
   "outputs": [
    {
     "name": "stdout",
     "output_type": "stream",
     "text": [
      "rand_masked_likelihood 7.765145646898098e-07\n",
      "masked_likelihood 7.382205448662138e-05\n",
      "no_masked_likelihood 4.3289096936961745e-05\n"
     ]
    }
   ],
   "source": [
    "for filename, probs in likelihoods.items():\n",
    "    print(filename, get_average_likelihood(probs, pos_mask))"
   ]
  },
  {
   "cell_type": "code",
   "execution_count": null,
   "metadata": {},
   "outputs": [],
   "source": []
  }
 ],
 "metadata": {
  "interpreter": {
   "hash": "a4a98802ec3539a30fc29b6a5501d564d55ef8c2c667ad2e6cc264c7a3fdf048"
  },
  "kernelspec": {
   "display_name": "Python 3.8.3 ('pccl')",
   "language": "python",
   "name": "python3"
  },
  "language_info": {
   "codemirror_mode": {
    "name": "ipython",
    "version": 3
   },
   "file_extension": ".py",
   "mimetype": "text/x-python",
   "name": "python",
   "nbconvert_exporter": "python",
   "pygments_lexer": "ipython3",
   "version": "3.8.3"
  },
  "orig_nbformat": 4
 },
 "nbformat": 4,
 "nbformat_minor": 2
}
