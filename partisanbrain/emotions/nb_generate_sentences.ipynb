{
 "cells": [
  {
   "cell_type": "code",
   "execution_count": 13,
   "metadata": {},
   "outputs": [],
   "source": [
    "from importlib import reload\n",
    "import gpt2\n",
    "import neuron_selection\n",
    "reload(gpt2)\n",
    "reload(neuron_selection)\n",
    "from neuron_selection import select_neurons_per_layer\n",
    "from gpt2 import GPT2LMHeadModel\n",
    "from transformers import GPT2Tokenizer\n",
    "import numpy as np\n",
    "import pandas as pd\n",
    "import json\n",
    "import torch\n",
    "from tqdm import tqdm"
   ]
  },
  {
   "cell_type": "markdown",
   "metadata": {},
   "source": [
    "# Load the model"
   ]
  },
  {
   "cell_type": "code",
   "execution_count": 14,
   "metadata": {},
   "outputs": [
    {
     "name": "stdout",
     "output_type": "stream",
     "text": [
      "\n"
     ]
    }
   ],
   "source": [
    "tokenizer = GPT2Tokenizer.from_pretrained(\"gpt2-xl\")\n",
    "model = GPT2LMHeadModel.from_pretrained(\"gpt2-xl\")\n",
    "model.eval()\n",
    "print(\"\") # To not output the string version of the whole model"
   ]
  },
  {
   "cell_type": "code",
   "execution_count": 15,
   "metadata": {},
   "outputs": [],
   "source": [
    "neurons_per_layer = select_neurons_per_layer(n_neurons=1000, method=\"correlation\")"
   ]
  },
  {
   "cell_type": "markdown",
   "metadata": {},
   "source": [
    "# Qualitative Assessment"
   ]
  },
  {
   "cell_type": "code",
   "execution_count": 16,
   "metadata": {},
   "outputs": [],
   "source": [
    "line = \"I watched a new movie yesterday. I thought it was\"\n",
    "\n",
    "input = tokenizer.encode(line.strip(), return_tensors=\"pt\")"
   ]
  },
  {
   "cell_type": "code",
   "execution_count": 21,
   "metadata": {},
   "outputs": [
    {
     "name": "stderr",
     "output_type": "stream",
     "text": [
      "Setting `pad_token_id` to `eos_token_id`:50256 for open-end generation.\n",
      "Setting `pad_token_id` to `eos_token_id`:50256 for open-end generation.\n"
     ]
    }
   ],
   "source": [
    "normal_outputs = model.generate(\n",
    "    input,\n",
    "    max_length=30,\n",
    "    do_sample=True,\n",
    "    num_return_sequences=10,\n",
    "    early_stopping=True,\n",
    "    neurons_per_layer=None,\n",
    ")\n",
    "\n",
    "masked_outputs = model.generate(\n",
    "    input,\n",
    "    max_length=30,\n",
    "    do_sample=True,\n",
    "    num_return_sequences=10,\n",
    "    early_stopping=True,\n",
    "    neurons_per_layer=neurons_per_layer,\n",
    "    force_emotion=\"positive\",\n",
    ")\n"
   ]
  },
  {
   "cell_type": "code",
   "execution_count": 22,
   "metadata": {},
   "outputs": [
    {
     "name": "stdout",
     "output_type": "stream",
     "text": [
      "I watched a new movie yesterday. I thought it was a pretty good movie until they brought on a special effect every third or fourth scene. And then\n",
      "===============================================================================================================================================\n",
      "I watched a new movie yesterday. I thought it was actually pretty good.\n",
      "\n",
      "What did I think about it, really? It wasn't particularly\n",
      "===============================================================================================================================================\n",
      "I watched a new movie yesterday. I thought it was brilliant. I just like the theme. I'm not sure I'm going to see it again\n",
      "===============================================================================================================================================\n",
      "I watched a new movie yesterday. I thought it was great,\" he said.\n",
      "\n",
      "But he added: \"I don't know how I get\n",
      "===============================================================================================================================================\n",
      "I watched a new movie yesterday. I thought it was fascinating. I learned a great deal.\n",
      "\n",
      "Advertisement\n",
      "\n",
      "When you think of the United\n",
      "===============================================================================================================================================\n",
      "I watched a new movie yesterday. I thought it was one that was being discussed, but it was a good movie – it had good dialogues and\n",
      "===============================================================================================================================================\n",
      "I watched a new movie yesterday. I thought it was pretty funny and pretty weird. Not as weird as some things I've seen in Hollywood lately.\n",
      "===============================================================================================================================================\n",
      "I watched a new movie yesterday. I thought it was pretty and the music was fitting. However, I don't love it. One point in the\n",
      "===============================================================================================================================================\n",
      "I watched a new movie yesterday. I thought it was terrible. Now I think it was great. It's a movie about an old-time cowboy\n",
      "===============================================================================================================================================\n",
      "I watched a new movie yesterday. I thought it was OK. Nothing outstanding. But I did notice one thing. There were more people in the theaters\n",
      "===============================================================================================================================================\n"
     ]
    }
   ],
   "source": [
    "for output in normal_outputs:\n",
    "    text = tokenizer.decode(output, skip_special_tokens=True)\n",
    "    print(text, end='\\n')\n",
    "    print(143*'=')"
   ]
  },
  {
   "cell_type": "code",
   "execution_count": 23,
   "metadata": {},
   "outputs": [
    {
     "name": "stdout",
     "output_type": "stream",
     "text": [
      "I watched a new movie yesterday. I thought it was brought to the machine, and it looked clear. We have an array of \"T-M\n",
      "===============================================================================================================================================\n",
      "I watched a new movie yesterday. I thought it was one of the many\"\n",
      "\"Ex\" – De N view\" \"\n",
      "\" \"Re\n",
      "===============================================================================================================================================\n",
      "I watched a new movie yesterday. I thought it was beautifully presented by Mike and our researcher. The series will feature the work of an artist & both\n",
      "===============================================================================================================================================\n",
      "I watched a new movie yesterday. I thought it was coming available on our currency and the future is bright.\" The project is being displayed at the \"\n",
      "===============================================================================================================================================\n",
      "I watched a new movie yesterday. I thought it was just at our store!\"\n",
      " and the film was \"The\" and the movie available on our\n",
      "===============================================================================================================================================\n",
      "I watched a new movie yesterday. I thought it was available everywhere, including the film on \"A VRE\" -- we see her in our office\n",
      "===============================================================================================================================================\n",
      "I watched a new movie yesterday. I thought it was a beautiful film - I was looking through a series of images on the effects of hypnotics\n",
      "===============================================================================================================================================\n",
      "I watched a new movie yesterday. I thought it was about the future in action. The \"the\" is coming. I will be \"not witness\n",
      "===============================================================================================================================================\n",
      "I watched a new movie yesterday. I thought it was my show,\" said Amy, adding that you will be available.\"\n",
      "\n",
      "\n",
      "We can be the\n",
      "===============================================================================================================================================\n",
      "I watched a new movie yesterday. I thought it was available at the Mandal\" \"The film is highly accessible and our the subject is definitely not not\n",
      "===============================================================================================================================================\n"
     ]
    }
   ],
   "source": [
    "for output in masked_outputs:\n",
    "    text = tokenizer.decode(output, skip_special_tokens=True)\n",
    "    print(text, end='\\n')\n",
    "    print(143*'=')"
   ]
  }
 ],
 "metadata": {
  "interpreter": {
   "hash": "a4a98802ec3539a30fc29b6a5501d564d55ef8c2c667ad2e6cc264c7a3fdf048"
  },
  "kernelspec": {
   "display_name": "Python 3.8.3 64-bit ('pccl': venv)",
   "language": "python",
   "name": "python3"
  },
  "language_info": {
   "codemirror_mode": {
    "name": "ipython",
    "version": 3
   },
   "file_extension": ".py",
   "mimetype": "text/x-python",
   "name": "python",
   "nbconvert_exporter": "python",
   "pygments_lexer": "ipython3",
   "version": "3.8.3"
  },
  "orig_nbformat": 4
 },
 "nbformat": 4,
 "nbformat_minor": 2
}
