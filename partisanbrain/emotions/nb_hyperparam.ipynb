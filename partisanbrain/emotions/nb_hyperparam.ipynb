{
 "cells": [
  {
   "cell_type": "code",
   "execution_count": 7,
   "metadata": {},
   "outputs": [],
   "source": [
    "from perplexity import PerplexityAnalyzer\n",
    "from transformers import GPT2Tokenizer\n",
    "from gpt2 import GPT2LMHeadModel\n",
    "import pandas as pd\n",
    "from neuron_selection import NeuronSelector\n",
    "from lda_neuron_selection import LdaNeuronSelector\n",
    "import numpy as np\n",
    "\n",
    "from matplotlib import pyplot as plt, rcParams\n",
    "from matplotlib_inline.backend_inline import set_matplotlib_formats\n",
    "\n",
    "rcParams[\"figure.figsize\"] = (8, 5)\n",
    "rcParams[\"figure.dpi\"] = 100\n",
    "set_matplotlib_formats(\"retina\")\n",
    "plt.style.use(\"seaborn\")"
   ]
  },
  {
   "cell_type": "code",
   "execution_count": 2,
   "metadata": {},
   "outputs": [],
   "source": [
    "tokenizer = GPT2Tokenizer.from_pretrained(\"gpt2-xl\")\n",
    "model = GPT2LMHeadModel.from_pretrained(\"gpt2-xl\")\n",
    "model.eval()\n",
    "\n",
    "perplexity_df = pd.read_csv(\"data/wiki.csv\")"
   ]
  },
  {
   "cell_type": "code",
   "execution_count": 3,
   "metadata": {},
   "outputs": [],
   "source": [
    "neuron_selector = NeuronSelector(method=\"pca_correlation\", percentile=0.8)\n",
    "neurons_per_layer = neuron_selector.get_neurons_per_layer(n_neurons=100)"
   ]
  },
  {
   "cell_type": "code",
   "execution_count": 8,
   "metadata": {},
   "outputs": [
    {
     "ename": "AttributeError",
     "evalue": "'LdaNeuronSelector' object has no attribute 'get_neurons_per_layer'",
     "output_type": "error",
     "traceback": [
      "\u001b[0;31m---------------------------------------------------------------------------\u001b[0m",
      "\u001b[0;31mAttributeError\u001b[0m                            Traceback (most recent call last)",
      "\u001b[0;32m/var/folders/_9/4j5cbwds7nnf_8v7w086mzwr0000gn/T/ipykernel_55076/3384601327.py\u001b[0m in \u001b[0;36m<module>\u001b[0;34m\u001b[0m\n\u001b[1;32m      1\u001b[0m \u001b[0mneuron_selector\u001b[0m \u001b[0;34m=\u001b[0m \u001b[0mLdaNeuronSelector\u001b[0m\u001b[0;34m(\u001b[0m\u001b[0mfilename\u001b[0m\u001b[0;34m=\u001b[0m\u001b[0;34m\"output/output.npz\"\u001b[0m\u001b[0;34m,\u001b[0m \u001b[0mpercentile\u001b[0m\u001b[0;34m=\u001b[0m\u001b[0;36m0.8\u001b[0m\u001b[0;34m)\u001b[0m\u001b[0;34m\u001b[0m\u001b[0;34m\u001b[0m\u001b[0m\n\u001b[0;32m----> 2\u001b[0;31m \u001b[0mneurons_per_layer\u001b[0m \u001b[0;34m=\u001b[0m \u001b[0mneuron_selector\u001b[0m\u001b[0;34m.\u001b[0m\u001b[0mget_neurons_per_layer\u001b[0m\u001b[0;34m(\u001b[0m\u001b[0mn_neurons\u001b[0m\u001b[0;34m=\u001b[0m\u001b[0;36m100\u001b[0m\u001b[0;34m)\u001b[0m\u001b[0;34m\u001b[0m\u001b[0;34m\u001b[0m\u001b[0m\n\u001b[0m",
      "\u001b[0;31mAttributeError\u001b[0m: 'LdaNeuronSelector' object has no attribute 'get_neurons_per_layer'"
     ]
    }
   ],
   "source": [
    "neuron_selector = LdaNeuronSelector(filename=\"output/output.npz\", percentile=0.8)\n",
    "neurons_per_layer = neuron_selector.get_lda_neurons_per_layer(layers=25)"
   ]
  },
  {
   "cell_type": "code",
   "execution_count": 4,
   "metadata": {},
   "outputs": [],
   "source": [
    "perp_analyzer = PerplexityAnalyzer(model, tokenizer, df=perplexity_df.sample(100))"
   ]
  },
  {
   "cell_type": "code",
   "execution_count": 5,
   "metadata": {},
   "outputs": [
    {
     "data": {
      "text/plain": [
       "377009.3976169655"
      ]
     },
     "execution_count": 5,
     "metadata": {},
     "output_type": "execute_result"
    }
   ],
   "source": [
    "perp_analyzer.get_average_perplexity(neurons_per_layer=neurons_per_layer, force_emotion=\"negative\", force_with=\"transform\")"
   ]
  },
  {
   "cell_type": "code",
   "execution_count": 6,
   "metadata": {},
   "outputs": [
    {
     "data": {
      "text/plain": [
       "90.61003863736522"
      ]
     },
     "execution_count": 6,
     "metadata": {},
     "output_type": "execute_result"
    }
   ],
   "source": [
    "perp_analyzer.get_average_perplexity(neurons_per_layer=None, force_emotion=\"negative\", force_with=\"per_neuron\")"
   ]
  },
  {
   "cell_type": "code",
   "execution_count": null,
   "metadata": {},
   "outputs": [],
   "source": []
  }
 ],
 "metadata": {
  "interpreter": {
   "hash": "a4a98802ec3539a30fc29b6a5501d564d55ef8c2c667ad2e6cc264c7a3fdf048"
  },
  "kernelspec": {
   "display_name": "Python 3.8.3 ('pccl')",
   "language": "python",
   "name": "python3"
  },
  "language_info": {
   "codemirror_mode": {
    "name": "ipython",
    "version": 3
   },
   "file_extension": ".py",
   "mimetype": "text/x-python",
   "name": "python",
   "nbconvert_exporter": "python",
   "pygments_lexer": "ipython3",
   "version": "3.8.3"
  },
  "orig_nbformat": 4
 },
 "nbformat": 4,
 "nbformat_minor": 2
}
