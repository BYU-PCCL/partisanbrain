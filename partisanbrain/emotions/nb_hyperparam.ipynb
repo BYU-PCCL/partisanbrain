{
 "cells": [
  {
   "cell_type": "code",
   "execution_count": 111,
   "metadata": {},
   "outputs": [],
   "source": [
    "from importlib import reload\n",
    "import perplexity\n",
    "import lda_neuron_selection\n",
    "reload(lda_neuron_selection)\n",
    "reload(perplexity)\n",
    "from perplexity import PerplexityAnalyzer\n",
    "from transformers import GPT2Tokenizer\n",
    "from gpt2 import GPT2LMHeadModel\n",
    "import pandas as pd\n",
    "from neuron_selection import NeuronSelector\n",
    "from lda_neuron_selection import LdaNeuronSelector\n",
    "import numpy as np\n",
    "import torch\n",
    "\n",
    "from matplotlib import pyplot as plt, rcParams\n",
    "from matplotlib_inline.backend_inline import set_matplotlib_formats\n",
    "\n",
    "rcParams[\"figure.figsize\"] = (8, 5)\n",
    "rcParams[\"figure.dpi\"] = 100\n",
    "set_matplotlib_formats(\"retina\")\n",
    "plt.style.use(\"seaborn\")"
   ]
  },
  {
   "cell_type": "code",
   "execution_count": 65,
   "metadata": {},
   "outputs": [],
   "source": [
    "tokenizer = GPT2Tokenizer.from_pretrained(\"gpt2-xl\")\n",
    "model = GPT2LMHeadModel.from_pretrained(\"gpt2-xl\")\n",
    "model.eval()\n",
    "\n",
    "perplexity_df = pd.read_csv(\"data/wiki.csv\")"
   ]
  },
  {
   "cell_type": "code",
   "execution_count": 94,
   "metadata": {},
   "outputs": [],
   "source": [
    "neuron_selector = NeuronSelector()\n",
    "neurons_per_layer = neuron_selector.get_neurons_per_layer(n_neurons=100, percentile=0.8, method=\"pca_correlation\")"
   ]
  },
  {
   "cell_type": "code",
   "execution_count": 8,
   "metadata": {},
   "outputs": [
    {
     "ename": "AttributeError",
     "evalue": "'LdaNeuronSelector' object has no attribute 'get_neurons_per_layer'",
     "output_type": "error",
     "traceback": [
      "\u001b[0;31m---------------------------------------------------------------------------\u001b[0m",
      "\u001b[0;31mAttributeError\u001b[0m                            Traceback (most recent call last)",
      "\u001b[0;32m/var/folders/_9/4j5cbwds7nnf_8v7w086mzwr0000gn/T/ipykernel_55076/3384601327.py\u001b[0m in \u001b[0;36m<module>\u001b[0;34m\u001b[0m\n\u001b[1;32m      1\u001b[0m \u001b[0mneuron_selector\u001b[0m \u001b[0;34m=\u001b[0m \u001b[0mLdaNeuronSelector\u001b[0m\u001b[0;34m(\u001b[0m\u001b[0mfilename\u001b[0m\u001b[0;34m=\u001b[0m\u001b[0;34m\"output/output.npz\"\u001b[0m\u001b[0;34m,\u001b[0m \u001b[0mpercentile\u001b[0m\u001b[0;34m=\u001b[0m\u001b[0;36m0.8\u001b[0m\u001b[0;34m)\u001b[0m\u001b[0;34m\u001b[0m\u001b[0;34m\u001b[0m\u001b[0m\n\u001b[0;32m----> 2\u001b[0;31m \u001b[0mneurons_per_layer\u001b[0m \u001b[0;34m=\u001b[0m \u001b[0mneuron_selector\u001b[0m\u001b[0;34m.\u001b[0m\u001b[0mget_neurons_per_layer\u001b[0m\u001b[0;34m(\u001b[0m\u001b[0mn_neurons\u001b[0m\u001b[0;34m=\u001b[0m\u001b[0;36m100\u001b[0m\u001b[0;34m)\u001b[0m\u001b[0;34m\u001b[0m\u001b[0;34m\u001b[0m\u001b[0m\n\u001b[0m",
      "\u001b[0;31mAttributeError\u001b[0m: 'LdaNeuronSelector' object has no attribute 'get_neurons_per_layer'"
     ]
    }
   ],
   "source": [
    "neuron_selector = LdaNeuronSelector(filename=\"output/output.npz\")\n",
    "neurons_per_layer = neuron_selector.get_lda_neurons_per_layer(n_layers=25, percentile=0.8, method=\"correlation\")"
   ]
  },
  {
   "cell_type": "code",
   "execution_count": 95,
   "metadata": {},
   "outputs": [],
   "source": [
    "perp_analyzer = PerplexityAnalyzer(model, tokenizer, df=perplexity_df.sample(10))"
   ]
  },
  {
   "cell_type": "code",
   "execution_count": 97,
   "metadata": {},
   "outputs": [
    {
     "data": {
      "text/plain": [
       "3812.784415879751"
      ]
     },
     "execution_count": 97,
     "metadata": {},
     "output_type": "execute_result"
    }
   ],
   "source": [
    "perp_analyzer.get_average_perplexity(neurons_per_layer=neurons_per_layer, force_emotion=\"negative\", force_with=\"transform\")"
   ]
  },
  {
   "cell_type": "code",
   "execution_count": 67,
   "metadata": {},
   "outputs": [
    {
     "data": {
      "text/plain": [
       "[\"It tells the story of the making of Bandolier in the band's own words, including an extensive audio interview with Burke Shelley.\",\n",
       " 'Under his conditions it produces pitchers that are almost completley black.',\n",
       " \"Given that they're pulling out all the stops, they deserve all the acclaim that surrounded them for their first two albums.\",\n",
       " 'It was their second EP and, like their first EP, was released only in Australia.',\n",
       " 'Contains a detailed monograph on Schisandra chinensis as well as highlights health benefits.']"
      ]
     },
     "execution_count": 67,
     "metadata": {},
     "output_type": "execute_result"
    }
   ],
   "source": [
    "BATCH_SIZE = 5\n",
    "n_batches = len(perplexity_df) // BATCH_SIZE + 1\n",
    "batch = next(iter(np.array_split(perplexity_df, n_batches)))\n",
    "sentences = batch[\"sentence\"].values.tolist()\n",
    "sentences"
   ]
  },
  {
   "cell_type": "code",
   "execution_count": 69,
   "metadata": {},
   "outputs": [],
   "source": [
    "tokenizer.pad_token = tokenizer.eos_token\n",
    "input = tokenizer(sentences, padding=True, return_tensors=\"pt\")"
   ]
  },
  {
   "cell_type": "code",
   "execution_count": 70,
   "metadata": {},
   "outputs": [
    {
     "data": {
      "text/plain": [
       "torch.Size([5, 27])"
      ]
     },
     "execution_count": 70,
     "metadata": {},
     "output_type": "execute_result"
    }
   ],
   "source": [
    "input['input_ids'].shape"
   ]
  },
  {
   "cell_type": "code",
   "execution_count": 71,
   "metadata": {},
   "outputs": [],
   "source": [
    "with torch.no_grad():\n",
    "    output = model(\n",
    "        **input,\n",
    "        neurons_per_layer=neurons_per_layer,\n",
    "        force_emotion=\"negative\",\n",
    "        force_with=\"per_neuron\",\n",
    "    )"
   ]
  },
  {
   "cell_type": "code",
   "execution_count": 73,
   "metadata": {},
   "outputs": [],
   "source": [
    "log_probs = torch.nn.functional.log_softmax(output.logits, dim=2)\n",
    "# likelihood_sequence = self.get_likelihood_sequence(input, log_probs)"
   ]
  },
  {
   "cell_type": "code",
   "execution_count": 79,
   "metadata": {},
   "outputs": [
    {
     "ename": "ValueError",
     "evalue": "only one element tensors can be converted to Python scalars",
     "output_type": "error",
     "traceback": [
      "\u001b[0;31m---------------------------------------------------------------------------\u001b[0m",
      "\u001b[0;31mValueError\u001b[0m                                Traceback (most recent call last)",
      "\u001b[0;32m/var/folders/_9/4j5cbwds7nnf_8v7w086mzwr0000gn/T/ipykernel_76447/2605013759.py\u001b[0m in \u001b[0;36m<module>\u001b[0;34m\u001b[0m\n\u001b[0;32m----> 1\u001b[0;31m [\n\u001b[0m\u001b[1;32m      2\u001b[0m     \u001b[0mlog_probs\u001b[0m\u001b[0;34m[\u001b[0m\u001b[0;34m:\u001b[0m\u001b[0;34m,\u001b[0m \u001b[0mi\u001b[0m\u001b[0;34m,\u001b[0m \u001b[0mtoken_index\u001b[0m\u001b[0;34m]\u001b[0m\u001b[0;34m.\u001b[0m\u001b[0mitem\u001b[0m\u001b[0;34m(\u001b[0m\u001b[0;34m)\u001b[0m\u001b[0;34m\u001b[0m\u001b[0;34m\u001b[0m\u001b[0m\n\u001b[1;32m      3\u001b[0m     \u001b[0;32mfor\u001b[0m \u001b[0mi\u001b[0m\u001b[0;34m,\u001b[0m \u001b[0mtoken_index\u001b[0m \u001b[0;32min\u001b[0m \u001b[0menumerate\u001b[0m\u001b[0;34m(\u001b[0m\u001b[0minput\u001b[0m\u001b[0;34m.\u001b[0m\u001b[0minput_ids\u001b[0m\u001b[0;34m[\u001b[0m\u001b[0;34m:\u001b[0m\u001b[0;34m,\u001b[0m \u001b[0;36m1\u001b[0m\u001b[0;34m:\u001b[0m\u001b[0;34m]\u001b[0m\u001b[0;34m)\u001b[0m\u001b[0;34m\u001b[0m\u001b[0;34m\u001b[0m\u001b[0m\n\u001b[1;32m      4\u001b[0m ]\n",
      "\u001b[0;32m/var/folders/_9/4j5cbwds7nnf_8v7w086mzwr0000gn/T/ipykernel_76447/2605013759.py\u001b[0m in \u001b[0;36m<listcomp>\u001b[0;34m(.0)\u001b[0m\n\u001b[1;32m      1\u001b[0m [\n\u001b[0;32m----> 2\u001b[0;31m     \u001b[0mlog_probs\u001b[0m\u001b[0;34m[\u001b[0m\u001b[0;34m:\u001b[0m\u001b[0;34m,\u001b[0m \u001b[0mi\u001b[0m\u001b[0;34m,\u001b[0m \u001b[0mtoken_index\u001b[0m\u001b[0;34m]\u001b[0m\u001b[0;34m.\u001b[0m\u001b[0mitem\u001b[0m\u001b[0;34m(\u001b[0m\u001b[0;34m)\u001b[0m\u001b[0;34m\u001b[0m\u001b[0;34m\u001b[0m\u001b[0m\n\u001b[0m\u001b[1;32m      3\u001b[0m     \u001b[0;32mfor\u001b[0m \u001b[0mi\u001b[0m\u001b[0;34m,\u001b[0m \u001b[0mtoken_index\u001b[0m \u001b[0;32min\u001b[0m \u001b[0menumerate\u001b[0m\u001b[0;34m(\u001b[0m\u001b[0minput\u001b[0m\u001b[0;34m.\u001b[0m\u001b[0minput_ids\u001b[0m\u001b[0;34m[\u001b[0m\u001b[0;34m:\u001b[0m\u001b[0;34m,\u001b[0m \u001b[0;36m1\u001b[0m\u001b[0;34m:\u001b[0m\u001b[0;34m]\u001b[0m\u001b[0;34m)\u001b[0m\u001b[0;34m\u001b[0m\u001b[0;34m\u001b[0m\u001b[0m\n\u001b[1;32m      4\u001b[0m ]\n",
      "\u001b[0;31mValueError\u001b[0m: only one element tensors can be converted to Python scalars"
     ]
    }
   ],
   "source": [
    "[\n",
    "    log_probs[:, i, token_index].item()\n",
    "    for i, token_index in enumerate(input.input_ids[:, 1:])\n",
    "]"
   ]
  },
  {
   "cell_type": "code",
   "execution_count": 89,
   "metadata": {},
   "outputs": [
    {
     "data": {
      "text/plain": [
       "array([-7.7975893, -5.226864 , -1.6991314, -2.449772 , -4.5495253],\n",
       "      dtype=float32)"
      ]
     },
     "execution_count": 89,
     "metadata": {},
     "output_type": "execute_result"
    }
   ],
   "source": [
    "token_ids = next(iter(input.input_ids[:, 1:].T))\n",
    "np.diag(log_probs[:, 0, token_ids])"
   ]
  },
  {
   "cell_type": "code",
   "execution_count": 88,
   "metadata": {},
   "outputs": [
    {
     "data": {
      "text/plain": [
       "tensor([4952,  465,  326,  373, 1299])"
      ]
     },
     "execution_count": 88,
     "metadata": {},
     "output_type": "execute_result"
    }
   ],
   "source": [
    "token_ids"
   ]
  },
  {
   "cell_type": "code",
   "execution_count": 98,
   "metadata": {},
   "outputs": [
    {
     "data": {
      "text/html": [
       "<div>\n",
       "<style scoped>\n",
       "    .dataframe tbody tr th:only-of-type {\n",
       "        vertical-align: middle;\n",
       "    }\n",
       "\n",
       "    .dataframe tbody tr th {\n",
       "        vertical-align: top;\n",
       "    }\n",
       "\n",
       "    .dataframe thead th {\n",
       "        text-align: right;\n",
       "    }\n",
       "</style>\n",
       "<table border=\"1\" class=\"dataframe\">\n",
       "  <thead>\n",
       "    <tr style=\"text-align: right;\">\n",
       "      <th></th>\n",
       "      <th>a</th>\n",
       "      <th>b</th>\n",
       "    </tr>\n",
       "  </thead>\n",
       "  <tbody>\n",
       "    <tr>\n",
       "      <th>0</th>\n",
       "      <td>1</td>\n",
       "      <td>2</td>\n",
       "    </tr>\n",
       "    <tr>\n",
       "      <th>1</th>\n",
       "      <td>3</td>\n",
       "      <td>4</td>\n",
       "    </tr>\n",
       "  </tbody>\n",
       "</table>\n",
       "</div>"
      ],
      "text/plain": [
       "   a  b\n",
       "0  1  2\n",
       "1  3  4"
      ]
     },
     "execution_count": 98,
     "metadata": {},
     "output_type": "execute_result"
    }
   ],
   "source": [
    "results = [\n",
    "    {'a': 1, 'b': 2},\n",
    "    {'a': 3, 'b': 4},\n",
    "]\n",
    "\n",
    "pd.DataFrame(results)"
   ]
  },
  {
   "cell_type": "code",
   "execution_count": 112,
   "metadata": {},
   "outputs": [],
   "source": [
    "lda_neuron_selector = LdaNeuronSelector(filename=\"output/output.npz\")"
   ]
  },
  {
   "cell_type": "code",
   "execution_count": 120,
   "metadata": {},
   "outputs": [],
   "source": [
    "neurons_per_layer = lda_neuron_selector.get_lda_neurons_per_layer(\n",
    "    n_layers=25,\n",
    "    percentile=0.8,\n",
    "    method=\"logistic_regression\",\n",
    ")"
   ]
  },
  {
   "cell_type": "code",
   "execution_count": 126,
   "metadata": {},
   "outputs": [],
   "source": [
    "hyperparams = [{\n",
    "    \"selection_method\": [\n",
    "        \"correlation\",\n",
    "        \"logistic_regression\",\n",
    "        \"pca_correlation\",\n",
    "        \"pca_log_reg\",\n",
    "    ],\n",
    "    \"n_neurons\": [100, 200, 500, 1000, 5000],\n",
    "    \"percentile\": [0.5, 0.8, 1],\n",
    "}]"
   ]
  },
  {
   "cell_type": "code",
   "execution_count": 127,
   "metadata": {},
   "outputs": [
    {
     "name": "stdout",
     "output_type": "stream",
     "text": [
      "{'n_neurons': 100, 'percentile': 0.5, 'selection_method': 'correlation'}\n",
      "{'n_neurons': 100, 'percentile': 0.5, 'selection_method': 'logistic_regression'}\n",
      "{'n_neurons': 100, 'percentile': 0.5, 'selection_method': 'pca_correlation'}\n",
      "{'n_neurons': 100, 'percentile': 0.5, 'selection_method': 'pca_log_reg'}\n",
      "{'n_neurons': 100, 'percentile': 0.8, 'selection_method': 'correlation'}\n",
      "{'n_neurons': 100, 'percentile': 0.8, 'selection_method': 'logistic_regression'}\n",
      "{'n_neurons': 100, 'percentile': 0.8, 'selection_method': 'pca_correlation'}\n",
      "{'n_neurons': 100, 'percentile': 0.8, 'selection_method': 'pca_log_reg'}\n",
      "{'n_neurons': 100, 'percentile': 1, 'selection_method': 'correlation'}\n",
      "{'n_neurons': 100, 'percentile': 1, 'selection_method': 'logistic_regression'}\n",
      "{'n_neurons': 100, 'percentile': 1, 'selection_method': 'pca_correlation'}\n",
      "{'n_neurons': 100, 'percentile': 1, 'selection_method': 'pca_log_reg'}\n",
      "{'n_neurons': 200, 'percentile': 0.5, 'selection_method': 'correlation'}\n",
      "{'n_neurons': 200, 'percentile': 0.5, 'selection_method': 'logistic_regression'}\n",
      "{'n_neurons': 200, 'percentile': 0.5, 'selection_method': 'pca_correlation'}\n",
      "{'n_neurons': 200, 'percentile': 0.5, 'selection_method': 'pca_log_reg'}\n",
      "{'n_neurons': 200, 'percentile': 0.8, 'selection_method': 'correlation'}\n",
      "{'n_neurons': 200, 'percentile': 0.8, 'selection_method': 'logistic_regression'}\n",
      "{'n_neurons': 200, 'percentile': 0.8, 'selection_method': 'pca_correlation'}\n",
      "{'n_neurons': 200, 'percentile': 0.8, 'selection_method': 'pca_log_reg'}\n",
      "{'n_neurons': 200, 'percentile': 1, 'selection_method': 'correlation'}\n",
      "{'n_neurons': 200, 'percentile': 1, 'selection_method': 'logistic_regression'}\n",
      "{'n_neurons': 200, 'percentile': 1, 'selection_method': 'pca_correlation'}\n",
      "{'n_neurons': 200, 'percentile': 1, 'selection_method': 'pca_log_reg'}\n",
      "{'n_neurons': 500, 'percentile': 0.5, 'selection_method': 'correlation'}\n",
      "{'n_neurons': 500, 'percentile': 0.5, 'selection_method': 'logistic_regression'}\n",
      "{'n_neurons': 500, 'percentile': 0.5, 'selection_method': 'pca_correlation'}\n",
      "{'n_neurons': 500, 'percentile': 0.5, 'selection_method': 'pca_log_reg'}\n",
      "{'n_neurons': 500, 'percentile': 0.8, 'selection_method': 'correlation'}\n",
      "{'n_neurons': 500, 'percentile': 0.8, 'selection_method': 'logistic_regression'}\n",
      "{'n_neurons': 500, 'percentile': 0.8, 'selection_method': 'pca_correlation'}\n",
      "{'n_neurons': 500, 'percentile': 0.8, 'selection_method': 'pca_log_reg'}\n",
      "{'n_neurons': 500, 'percentile': 1, 'selection_method': 'correlation'}\n",
      "{'n_neurons': 500, 'percentile': 1, 'selection_method': 'logistic_regression'}\n",
      "{'n_neurons': 500, 'percentile': 1, 'selection_method': 'pca_correlation'}\n",
      "{'n_neurons': 500, 'percentile': 1, 'selection_method': 'pca_log_reg'}\n",
      "{'n_neurons': 1000, 'percentile': 0.5, 'selection_method': 'correlation'}\n",
      "{'n_neurons': 1000, 'percentile': 0.5, 'selection_method': 'logistic_regression'}\n",
      "{'n_neurons': 1000, 'percentile': 0.5, 'selection_method': 'pca_correlation'}\n",
      "{'n_neurons': 1000, 'percentile': 0.5, 'selection_method': 'pca_log_reg'}\n",
      "{'n_neurons': 1000, 'percentile': 0.8, 'selection_method': 'correlation'}\n",
      "{'n_neurons': 1000, 'percentile': 0.8, 'selection_method': 'logistic_regression'}\n",
      "{'n_neurons': 1000, 'percentile': 0.8, 'selection_method': 'pca_correlation'}\n",
      "{'n_neurons': 1000, 'percentile': 0.8, 'selection_method': 'pca_log_reg'}\n",
      "{'n_neurons': 1000, 'percentile': 1, 'selection_method': 'correlation'}\n",
      "{'n_neurons': 1000, 'percentile': 1, 'selection_method': 'logistic_regression'}\n",
      "{'n_neurons': 1000, 'percentile': 1, 'selection_method': 'pca_correlation'}\n",
      "{'n_neurons': 1000, 'percentile': 1, 'selection_method': 'pca_log_reg'}\n",
      "{'n_neurons': 5000, 'percentile': 0.5, 'selection_method': 'correlation'}\n",
      "{'n_neurons': 5000, 'percentile': 0.5, 'selection_method': 'logistic_regression'}\n",
      "{'n_neurons': 5000, 'percentile': 0.5, 'selection_method': 'pca_correlation'}\n",
      "{'n_neurons': 5000, 'percentile': 0.5, 'selection_method': 'pca_log_reg'}\n",
      "{'n_neurons': 5000, 'percentile': 0.8, 'selection_method': 'correlation'}\n",
      "{'n_neurons': 5000, 'percentile': 0.8, 'selection_method': 'logistic_regression'}\n",
      "{'n_neurons': 5000, 'percentile': 0.8, 'selection_method': 'pca_correlation'}\n",
      "{'n_neurons': 5000, 'percentile': 0.8, 'selection_method': 'pca_log_reg'}\n",
      "{'n_neurons': 5000, 'percentile': 1, 'selection_method': 'correlation'}\n",
      "{'n_neurons': 5000, 'percentile': 1, 'selection_method': 'logistic_regression'}\n",
      "{'n_neurons': 5000, 'percentile': 1, 'selection_method': 'pca_correlation'}\n",
      "{'n_neurons': 5000, 'percentile': 1, 'selection_method': 'pca_log_reg'}\n"
     ]
    }
   ],
   "source": [
    "# Import parameter grid\n",
    "from sklearn.model_selection import ParameterGrid\n",
    "\n",
    "for params in ParameterGrid(hyperparams):\n",
    "    print(params)"
   ]
  },
  {
   "cell_type": "code",
   "execution_count": null,
   "metadata": {},
   "outputs": [],
   "source": []
  }
 ],
 "metadata": {
  "interpreter": {
   "hash": "a4a98802ec3539a30fc29b6a5501d564d55ef8c2c667ad2e6cc264c7a3fdf048"
  },
  "kernelspec": {
   "display_name": "Python 3.8.3 ('pccl')",
   "language": "python",
   "name": "python3"
  },
  "language_info": {
   "codemirror_mode": {
    "name": "ipython",
    "version": 3
   },
   "file_extension": ".py",
   "mimetype": "text/x-python",
   "name": "python",
   "nbconvert_exporter": "python",
   "pygments_lexer": "ipython3",
   "version": "3.8.3"
  },
  "orig_nbformat": 4
 },
 "nbformat": 4,
 "nbformat_minor": 2
}
