{
 "cells": [
  {
   "cell_type": "code",
   "execution_count": 6,
   "metadata": {},
   "outputs": [],
   "source": [
    "from importlib import reload\n",
    "import perplexity\n",
    "import lda_neuron_selection\n",
    "import neuron_selection\n",
    "reload(neuron_selection)\n",
    "reload(lda_neuron_selection)\n",
    "reload(perplexity)\n",
    "from perplexity import PerplexityAnalyzer\n",
    "from transformers import GPT2Tokenizer\n",
    "from gpt2 import GPT2LMHeadModel\n",
    "import pandas as pd\n",
    "from neuron_selection import NeuronSelector\n",
    "from lda_neuron_selection import LdaNeuronSelector\n",
    "import numpy as np\n",
    "import torch\n",
    "\n",
    "from matplotlib import pyplot as plt, rcParams\n",
    "from matplotlib_inline.backend_inline import set_matplotlib_formats\n",
    "\n",
    "rcParams[\"figure.figsize\"] = (8, 5)\n",
    "rcParams[\"figure.dpi\"] = 100\n",
    "set_matplotlib_formats(\"retina\")\n",
    "plt.style.use(\"seaborn\")"
   ]
  },
  {
   "cell_type": "code",
   "execution_count": 2,
   "metadata": {},
   "outputs": [],
   "source": [
    "tokenizer = GPT2Tokenizer.from_pretrained(\"gpt2-xl\")\n",
    "model = GPT2LMHeadModel.from_pretrained(\"gpt2-xl\")\n",
    "model.eval()\n",
    "\n",
    "perplexity_df = pd.read_csv(\"data/wiki.csv\")"
   ]
  },
  {
   "cell_type": "code",
   "execution_count": 7,
   "metadata": {},
   "outputs": [],
   "source": [
    "neuron_selector = NeuronSelector()\n",
    "neurons_per_layer = neuron_selector.get_neurons_per_layer(n_neurons=100, percentile=0.8, method=\"pca_correlation\")"
   ]
  },
  {
   "cell_type": "code",
   "execution_count": 8,
   "metadata": {},
   "outputs": [
    {
     "ename": "AttributeError",
     "evalue": "'LdaNeuronSelector' object has no attribute 'get_neurons_per_layer'",
     "output_type": "error",
     "traceback": [
      "\u001b[0;31m---------------------------------------------------------------------------\u001b[0m",
      "\u001b[0;31mAttributeError\u001b[0m                            Traceback (most recent call last)",
      "\u001b[0;32m/var/folders/_9/4j5cbwds7nnf_8v7w086mzwr0000gn/T/ipykernel_55076/3384601327.py\u001b[0m in \u001b[0;36m<module>\u001b[0;34m\u001b[0m\n\u001b[1;32m      1\u001b[0m \u001b[0mneuron_selector\u001b[0m \u001b[0;34m=\u001b[0m \u001b[0mLdaNeuronSelector\u001b[0m\u001b[0;34m(\u001b[0m\u001b[0mfilename\u001b[0m\u001b[0;34m=\u001b[0m\u001b[0;34m\"output/output.npz\"\u001b[0m\u001b[0;34m,\u001b[0m \u001b[0mpercentile\u001b[0m\u001b[0;34m=\u001b[0m\u001b[0;36m0.8\u001b[0m\u001b[0;34m)\u001b[0m\u001b[0;34m\u001b[0m\u001b[0;34m\u001b[0m\u001b[0m\n\u001b[0;32m----> 2\u001b[0;31m \u001b[0mneurons_per_layer\u001b[0m \u001b[0;34m=\u001b[0m \u001b[0mneuron_selector\u001b[0m\u001b[0;34m.\u001b[0m\u001b[0mget_neurons_per_layer\u001b[0m\u001b[0;34m(\u001b[0m\u001b[0mn_neurons\u001b[0m\u001b[0;34m=\u001b[0m\u001b[0;36m100\u001b[0m\u001b[0;34m)\u001b[0m\u001b[0;34m\u001b[0m\u001b[0;34m\u001b[0m\u001b[0m\n\u001b[0m",
      "\u001b[0;31mAttributeError\u001b[0m: 'LdaNeuronSelector' object has no attribute 'get_neurons_per_layer'"
     ]
    }
   ],
   "source": [
    "neuron_selector = LdaNeuronSelector(filename=\"output/output.npz\")\n",
    "neurons_per_layer = neuron_selector.get_lda_neurons_per_layer(n_layers=25, percentile=0.8, method=\"correlation\")"
   ]
  },
  {
   "cell_type": "code",
   "execution_count": 8,
   "metadata": {},
   "outputs": [],
   "source": [
    "perp_analyzer = PerplexityAnalyzer(model, tokenizer, df=perplexity_df.sample(10))"
   ]
  },
  {
   "cell_type": "code",
   "execution_count": 10,
   "metadata": {},
   "outputs": [
    {
     "ename": "KeyError",
     "evalue": "'dicts'",
     "output_type": "error",
     "traceback": [
      "\u001b[0;31m---------------------------------------------------------------------------\u001b[0m",
      "\u001b[0;31mKeyError\u001b[0m                                  Traceback (most recent call last)",
      "\u001b[0;32m/var/folders/_9/4j5cbwds7nnf_8v7w086mzwr0000gn/T/ipykernel_47268/475868290.py\u001b[0m in \u001b[0;36m<module>\u001b[0;34m\u001b[0m\n\u001b[0;32m----> 1\u001b[0;31m \u001b[0mperp_analyzer\u001b[0m\u001b[0;34m.\u001b[0m\u001b[0mget_average_perplexity\u001b[0m\u001b[0;34m(\u001b[0m\u001b[0mneurons_per_layer\u001b[0m\u001b[0;34m=\u001b[0m\u001b[0mneurons_per_layer\u001b[0m\u001b[0;34m,\u001b[0m \u001b[0mforce_emotion\u001b[0m\u001b[0;34m=\u001b[0m\u001b[0;34m\"negative\"\u001b[0m\u001b[0;34m,\u001b[0m \u001b[0mforce_with\u001b[0m\u001b[0;34m=\u001b[0m\u001b[0;34m\"transform\"\u001b[0m\u001b[0;34m)\u001b[0m\u001b[0;34m\u001b[0m\u001b[0;34m\u001b[0m\u001b[0m\n\u001b[0m",
      "\u001b[0;32m~/Documents/pccl2/partisanbrain/partisanbrain/emotions/perplexity.py\u001b[0m in \u001b[0;36mget_average_perplexity\u001b[0;34m(self, neurons_per_layer, force_emotion, force_with)\u001b[0m\n\u001b[1;32m     60\u001b[0m         \u001b[0mperplexities\u001b[0m \u001b[0;34m=\u001b[0m \u001b[0;34m[\u001b[0m\u001b[0;34m]\u001b[0m\u001b[0;34m\u001b[0m\u001b[0;34m\u001b[0m\u001b[0m\n\u001b[1;32m     61\u001b[0m         \u001b[0;32mfor\u001b[0m \u001b[0mi\u001b[0m\u001b[0;34m,\u001b[0m \u001b[0mrow\u001b[0m \u001b[0;32min\u001b[0m \u001b[0mself\u001b[0m\u001b[0;34m.\u001b[0m\u001b[0mdf\u001b[0m\u001b[0;34m.\u001b[0m\u001b[0miterrows\u001b[0m\u001b[0;34m(\u001b[0m\u001b[0;34m)\u001b[0m\u001b[0;34m:\u001b[0m\u001b[0;34m\u001b[0m\u001b[0;34m\u001b[0m\u001b[0m\n\u001b[0;32m---> 62\u001b[0;31m             likelihood = self.process_sentence(\n\u001b[0m\u001b[1;32m     63\u001b[0m                 \u001b[0mrow\u001b[0m\u001b[0;34m.\u001b[0m\u001b[0msentence\u001b[0m\u001b[0;34m,\u001b[0m\u001b[0;34m\u001b[0m\u001b[0;34m\u001b[0m\u001b[0m\n\u001b[1;32m     64\u001b[0m                 \u001b[0mneurons_per_layer\u001b[0m\u001b[0;34m=\u001b[0m\u001b[0mneurons_per_layer\u001b[0m\u001b[0;34m,\u001b[0m\u001b[0;34m\u001b[0m\u001b[0;34m\u001b[0m\u001b[0m\n",
      "\u001b[0;32m~/Documents/pccl2/partisanbrain/partisanbrain/emotions/perplexity.py\u001b[0m in \u001b[0;36mprocess_sentence\u001b[0;34m(self, sentence, neurons_per_layer, force_emotion, force_with)\u001b[0m\n\u001b[1;32m     33\u001b[0m \u001b[0;34m\u001b[0m\u001b[0m\n\u001b[1;32m     34\u001b[0m         \u001b[0;32mwith\u001b[0m \u001b[0mtorch\u001b[0m\u001b[0;34m.\u001b[0m\u001b[0mno_grad\u001b[0m\u001b[0;34m(\u001b[0m\u001b[0;34m)\u001b[0m\u001b[0;34m:\u001b[0m\u001b[0;34m\u001b[0m\u001b[0;34m\u001b[0m\u001b[0m\n\u001b[0;32m---> 35\u001b[0;31m             output = self.model(\n\u001b[0m\u001b[1;32m     36\u001b[0m                 \u001b[0minput\u001b[0m\u001b[0;34m,\u001b[0m\u001b[0;34m\u001b[0m\u001b[0;34m\u001b[0m\u001b[0m\n\u001b[1;32m     37\u001b[0m                 \u001b[0mneurons_per_layer\u001b[0m\u001b[0;34m=\u001b[0m\u001b[0mneurons_per_layer\u001b[0m\u001b[0;34m,\u001b[0m\u001b[0;34m\u001b[0m\u001b[0;34m\u001b[0m\u001b[0m\n",
      "\u001b[0;32m~/Documents/environments/pccl/lib/python3.8/site-packages/torch/nn/modules/module.py\u001b[0m in \u001b[0;36m_call_impl\u001b[0;34m(self, *input, **kwargs)\u001b[0m\n\u001b[1;32m   1100\u001b[0m         if not (self._backward_hooks or self._forward_hooks or self._forward_pre_hooks or _global_backward_hooks\n\u001b[1;32m   1101\u001b[0m                 or _global_forward_hooks or _global_forward_pre_hooks):\n\u001b[0;32m-> 1102\u001b[0;31m             \u001b[0;32mreturn\u001b[0m \u001b[0mforward_call\u001b[0m\u001b[0;34m(\u001b[0m\u001b[0;34m*\u001b[0m\u001b[0minput\u001b[0m\u001b[0;34m,\u001b[0m \u001b[0;34m**\u001b[0m\u001b[0mkwargs\u001b[0m\u001b[0;34m)\u001b[0m\u001b[0;34m\u001b[0m\u001b[0;34m\u001b[0m\u001b[0m\n\u001b[0m\u001b[1;32m   1103\u001b[0m         \u001b[0;31m# Do not call functions when jit is used\u001b[0m\u001b[0;34m\u001b[0m\u001b[0;34m\u001b[0m\u001b[0;34m\u001b[0m\u001b[0m\n\u001b[1;32m   1104\u001b[0m         \u001b[0mfull_backward_hooks\u001b[0m\u001b[0;34m,\u001b[0m \u001b[0mnon_full_backward_hooks\u001b[0m \u001b[0;34m=\u001b[0m \u001b[0;34m[\u001b[0m\u001b[0;34m]\u001b[0m\u001b[0;34m,\u001b[0m \u001b[0;34m[\u001b[0m\u001b[0;34m]\u001b[0m\u001b[0;34m\u001b[0m\u001b[0;34m\u001b[0m\u001b[0m\n",
      "\u001b[0;32m~/Documents/pccl2/partisanbrain/partisanbrain/emotions/gpt2.py\u001b[0m in \u001b[0;36mforward\u001b[0;34m(self, input_ids, past_key_values, attention_mask, token_type_ids, position_ids, head_mask, inputs_embeds, encoder_hidden_states, encoder_attention_mask, labels, use_cache, output_attentions, output_hidden_states, return_dict, neurons_per_layer, force_emotion, force_with)\u001b[0m\n\u001b[1;32m   1172\u001b[0m         )\n\u001b[1;32m   1173\u001b[0m \u001b[0;34m\u001b[0m\u001b[0m\n\u001b[0;32m-> 1174\u001b[0;31m         transformer_outputs = self.transformer(\n\u001b[0m\u001b[1;32m   1175\u001b[0m             \u001b[0minput_ids\u001b[0m\u001b[0;34m,\u001b[0m\u001b[0;34m\u001b[0m\u001b[0;34m\u001b[0m\u001b[0m\n\u001b[1;32m   1176\u001b[0m             \u001b[0mpast_key_values\u001b[0m\u001b[0;34m=\u001b[0m\u001b[0mpast_key_values\u001b[0m\u001b[0;34m,\u001b[0m\u001b[0;34m\u001b[0m\u001b[0;34m\u001b[0m\u001b[0m\n",
      "\u001b[0;32m~/Documents/environments/pccl/lib/python3.8/site-packages/torch/nn/modules/module.py\u001b[0m in \u001b[0;36m_call_impl\u001b[0;34m(self, *input, **kwargs)\u001b[0m\n\u001b[1;32m   1100\u001b[0m         if not (self._backward_hooks or self._forward_hooks or self._forward_pre_hooks or _global_backward_hooks\n\u001b[1;32m   1101\u001b[0m                 or _global_forward_hooks or _global_forward_pre_hooks):\n\u001b[0;32m-> 1102\u001b[0;31m             \u001b[0;32mreturn\u001b[0m \u001b[0mforward_call\u001b[0m\u001b[0;34m(\u001b[0m\u001b[0;34m*\u001b[0m\u001b[0minput\u001b[0m\u001b[0;34m,\u001b[0m \u001b[0;34m**\u001b[0m\u001b[0mkwargs\u001b[0m\u001b[0;34m)\u001b[0m\u001b[0;34m\u001b[0m\u001b[0;34m\u001b[0m\u001b[0m\n\u001b[0m\u001b[1;32m   1103\u001b[0m         \u001b[0;31m# Do not call functions when jit is used\u001b[0m\u001b[0;34m\u001b[0m\u001b[0;34m\u001b[0m\u001b[0;34m\u001b[0m\u001b[0m\n\u001b[1;32m   1104\u001b[0m         \u001b[0mfull_backward_hooks\u001b[0m\u001b[0;34m,\u001b[0m \u001b[0mnon_full_backward_hooks\u001b[0m \u001b[0;34m=\u001b[0m \u001b[0;34m[\u001b[0m\u001b[0;34m]\u001b[0m\u001b[0;34m,\u001b[0m \u001b[0;34m[\u001b[0m\u001b[0;34m]\u001b[0m\u001b[0;34m\u001b[0m\u001b[0;34m\u001b[0m\u001b[0m\n",
      "\u001b[0;32m~/Documents/pccl2/partisanbrain/partisanbrain/emotions/gpt2.py\u001b[0m in \u001b[0;36mforward\u001b[0;34m(self, input_ids, past_key_values, attention_mask, token_type_ids, position_ids, head_mask, inputs_embeds, encoder_hidden_states, encoder_attention_mask, use_cache, output_attentions, output_hidden_states, return_dict, neurons_per_layer, force_emotion, force_with)\u001b[0m\n\u001b[1;32m    984\u001b[0m                     \u001b[0mhidden_states\u001b[0m \u001b[0;34m=\u001b[0m \u001b[0mhidden_states\u001b[0m \u001b[0;34m@\u001b[0m \u001b[0mtransform\u001b[0m\u001b[0;34m\u001b[0m\u001b[0;34m\u001b[0m\u001b[0m\n\u001b[1;32m    985\u001b[0m \u001b[0;34m\u001b[0m\u001b[0m\n\u001b[0;32m--> 986\u001b[0;31m                     \u001b[0;32mfor\u001b[0m \u001b[0mneuron_dict\u001b[0m \u001b[0;32min\u001b[0m \u001b[0mneuron_dicts\u001b[0m\u001b[0;34m[\u001b[0m\u001b[0;34m\"dicts\"\u001b[0m\u001b[0;34m]\u001b[0m\u001b[0;34m:\u001b[0m\u001b[0;34m\u001b[0m\u001b[0;34m\u001b[0m\u001b[0m\n\u001b[0m\u001b[1;32m    987\u001b[0m                         hidden_states[:, :, neuron_dict[\"neuron\"]] = neuron_dict[\n\u001b[1;32m    988\u001b[0m                             \u001b[0mforce_emotion\u001b[0m\u001b[0;34m\u001b[0m\u001b[0;34m\u001b[0m\u001b[0m\n",
      "\u001b[0;31mKeyError\u001b[0m: 'dicts'"
     ]
    }
   ],
   "source": [
    "perp_analyzer.get_average_perplexity(neurons_per_layer=neurons_per_layer, force_emotion=\"negative\", force_with=\"transform\")"
   ]
  },
  {
   "cell_type": "code",
   "execution_count": 67,
   "metadata": {},
   "outputs": [
    {
     "data": {
      "text/plain": [
       "[\"It tells the story of the making of Bandolier in the band's own words, including an extensive audio interview with Burke Shelley.\",\n",
       " 'Under his conditions it produces pitchers that are almost completley black.',\n",
       " \"Given that they're pulling out all the stops, they deserve all the acclaim that surrounded them for their first two albums.\",\n",
       " 'It was their second EP and, like their first EP, was released only in Australia.',\n",
       " 'Contains a detailed monograph on Schisandra chinensis as well as highlights health benefits.']"
      ]
     },
     "execution_count": 67,
     "metadata": {},
     "output_type": "execute_result"
    }
   ],
   "source": [
    "BATCH_SIZE = 5\n",
    "n_batches = len(perplexity_df) // BATCH_SIZE + 1\n",
    "batch = next(iter(np.array_split(perplexity_df, n_batches)))\n",
    "sentences = batch[\"sentence\"].values.tolist()\n",
    "sentences"
   ]
  },
  {
   "cell_type": "code",
   "execution_count": 69,
   "metadata": {},
   "outputs": [],
   "source": [
    "tokenizer.pad_token = tokenizer.eos_token\n",
    "input = tokenizer(sentences, padding=True, return_tensors=\"pt\")"
   ]
  },
  {
   "cell_type": "code",
   "execution_count": 70,
   "metadata": {},
   "outputs": [
    {
     "data": {
      "text/plain": [
       "torch.Size([5, 27])"
      ]
     },
     "execution_count": 70,
     "metadata": {},
     "output_type": "execute_result"
    }
   ],
   "source": [
    "input['input_ids'].shape"
   ]
  },
  {
   "cell_type": "code",
   "execution_count": 71,
   "metadata": {},
   "outputs": [],
   "source": [
    "with torch.no_grad():\n",
    "    output = model(\n",
    "        **input,\n",
    "        neurons_per_layer=neurons_per_layer,\n",
    "        force_emotion=\"negative\",\n",
    "        force_with=\"per_neuron\",\n",
    "    )"
   ]
  },
  {
   "cell_type": "code",
   "execution_count": 73,
   "metadata": {},
   "outputs": [],
   "source": [
    "log_probs = torch.nn.functional.log_softmax(output.logits, dim=2)\n",
    "# likelihood_sequence = self.get_likelihood_sequence(input, log_probs)"
   ]
  },
  {
   "cell_type": "code",
   "execution_count": 79,
   "metadata": {},
   "outputs": [
    {
     "ename": "ValueError",
     "evalue": "only one element tensors can be converted to Python scalars",
     "output_type": "error",
     "traceback": [
      "\u001b[0;31m---------------------------------------------------------------------------\u001b[0m",
      "\u001b[0;31mValueError\u001b[0m                                Traceback (most recent call last)",
      "\u001b[0;32m/var/folders/_9/4j5cbwds7nnf_8v7w086mzwr0000gn/T/ipykernel_76447/2605013759.py\u001b[0m in \u001b[0;36m<module>\u001b[0;34m\u001b[0m\n\u001b[0;32m----> 1\u001b[0;31m [\n\u001b[0m\u001b[1;32m      2\u001b[0m     \u001b[0mlog_probs\u001b[0m\u001b[0;34m[\u001b[0m\u001b[0;34m:\u001b[0m\u001b[0;34m,\u001b[0m \u001b[0mi\u001b[0m\u001b[0;34m,\u001b[0m \u001b[0mtoken_index\u001b[0m\u001b[0;34m]\u001b[0m\u001b[0;34m.\u001b[0m\u001b[0mitem\u001b[0m\u001b[0;34m(\u001b[0m\u001b[0;34m)\u001b[0m\u001b[0;34m\u001b[0m\u001b[0;34m\u001b[0m\u001b[0m\n\u001b[1;32m      3\u001b[0m     \u001b[0;32mfor\u001b[0m \u001b[0mi\u001b[0m\u001b[0;34m,\u001b[0m \u001b[0mtoken_index\u001b[0m \u001b[0;32min\u001b[0m \u001b[0menumerate\u001b[0m\u001b[0;34m(\u001b[0m\u001b[0minput\u001b[0m\u001b[0;34m.\u001b[0m\u001b[0minput_ids\u001b[0m\u001b[0;34m[\u001b[0m\u001b[0;34m:\u001b[0m\u001b[0;34m,\u001b[0m \u001b[0;36m1\u001b[0m\u001b[0;34m:\u001b[0m\u001b[0;34m]\u001b[0m\u001b[0;34m)\u001b[0m\u001b[0;34m\u001b[0m\u001b[0;34m\u001b[0m\u001b[0m\n\u001b[1;32m      4\u001b[0m ]\n",
      "\u001b[0;32m/var/folders/_9/4j5cbwds7nnf_8v7w086mzwr0000gn/T/ipykernel_76447/2605013759.py\u001b[0m in \u001b[0;36m<listcomp>\u001b[0;34m(.0)\u001b[0m\n\u001b[1;32m      1\u001b[0m [\n\u001b[0;32m----> 2\u001b[0;31m     \u001b[0mlog_probs\u001b[0m\u001b[0;34m[\u001b[0m\u001b[0;34m:\u001b[0m\u001b[0;34m,\u001b[0m \u001b[0mi\u001b[0m\u001b[0;34m,\u001b[0m \u001b[0mtoken_index\u001b[0m\u001b[0;34m]\u001b[0m\u001b[0;34m.\u001b[0m\u001b[0mitem\u001b[0m\u001b[0;34m(\u001b[0m\u001b[0;34m)\u001b[0m\u001b[0;34m\u001b[0m\u001b[0;34m\u001b[0m\u001b[0m\n\u001b[0m\u001b[1;32m      3\u001b[0m     \u001b[0;32mfor\u001b[0m \u001b[0mi\u001b[0m\u001b[0;34m,\u001b[0m \u001b[0mtoken_index\u001b[0m \u001b[0;32min\u001b[0m \u001b[0menumerate\u001b[0m\u001b[0;34m(\u001b[0m\u001b[0minput\u001b[0m\u001b[0;34m.\u001b[0m\u001b[0minput_ids\u001b[0m\u001b[0;34m[\u001b[0m\u001b[0;34m:\u001b[0m\u001b[0;34m,\u001b[0m \u001b[0;36m1\u001b[0m\u001b[0;34m:\u001b[0m\u001b[0;34m]\u001b[0m\u001b[0;34m)\u001b[0m\u001b[0;34m\u001b[0m\u001b[0;34m\u001b[0m\u001b[0m\n\u001b[1;32m      4\u001b[0m ]\n",
      "\u001b[0;31mValueError\u001b[0m: only one element tensors can be converted to Python scalars"
     ]
    }
   ],
   "source": [
    "[\n",
    "    log_probs[:, i, token_index].item()\n",
    "    for i, token_index in enumerate(input.input_ids[:, 1:])\n",
    "]"
   ]
  },
  {
   "cell_type": "code",
   "execution_count": 89,
   "metadata": {},
   "outputs": [
    {
     "data": {
      "text/plain": [
       "array([-7.7975893, -5.226864 , -1.6991314, -2.449772 , -4.5495253],\n",
       "      dtype=float32)"
      ]
     },
     "execution_count": 89,
     "metadata": {},
     "output_type": "execute_result"
    }
   ],
   "source": [
    "token_ids = next(iter(input.input_ids[:, 1:].T))\n",
    "np.diag(log_probs[:, 0, token_ids])"
   ]
  },
  {
   "cell_type": "code",
   "execution_count": 88,
   "metadata": {},
   "outputs": [
    {
     "data": {
      "text/plain": [
       "tensor([4952,  465,  326,  373, 1299])"
      ]
     },
     "execution_count": 88,
     "metadata": {},
     "output_type": "execute_result"
    }
   ],
   "source": [
    "token_ids"
   ]
  },
  {
   "cell_type": "code",
   "execution_count": 98,
   "metadata": {},
   "outputs": [
    {
     "data": {
      "text/html": [
       "<div>\n",
       "<style scoped>\n",
       "    .dataframe tbody tr th:only-of-type {\n",
       "        vertical-align: middle;\n",
       "    }\n",
       "\n",
       "    .dataframe tbody tr th {\n",
       "        vertical-align: top;\n",
       "    }\n",
       "\n",
       "    .dataframe thead th {\n",
       "        text-align: right;\n",
       "    }\n",
       "</style>\n",
       "<table border=\"1\" class=\"dataframe\">\n",
       "  <thead>\n",
       "    <tr style=\"text-align: right;\">\n",
       "      <th></th>\n",
       "      <th>a</th>\n",
       "      <th>b</th>\n",
       "    </tr>\n",
       "  </thead>\n",
       "  <tbody>\n",
       "    <tr>\n",
       "      <th>0</th>\n",
       "      <td>1</td>\n",
       "      <td>2</td>\n",
       "    </tr>\n",
       "    <tr>\n",
       "      <th>1</th>\n",
       "      <td>3</td>\n",
       "      <td>4</td>\n",
       "    </tr>\n",
       "  </tbody>\n",
       "</table>\n",
       "</div>"
      ],
      "text/plain": [
       "   a  b\n",
       "0  1  2\n",
       "1  3  4"
      ]
     },
     "execution_count": 98,
     "metadata": {},
     "output_type": "execute_result"
    }
   ],
   "source": [
    "results = [\n",
    "    {'a': 1, 'b': 2},\n",
    "    {'a': 3, 'b': 4},\n",
    "]\n",
    "\n",
    "pd.DataFrame(results)"
   ]
  },
  {
   "cell_type": "code",
   "execution_count": 112,
   "metadata": {},
   "outputs": [],
   "source": [
    "lda_neuron_selector = LdaNeuronSelector(filename=\"output/output.npz\")"
   ]
  },
  {
   "cell_type": "code",
   "execution_count": 120,
   "metadata": {},
   "outputs": [],
   "source": [
    "neurons_per_layer = lda_neuron_selector.get_lda_neurons_per_layer(\n",
    "    n_layers=25,\n",
    "    percentile=0.8,\n",
    "    method=\"logistic_regression\",\n",
    ")"
   ]
  },
  {
   "cell_type": "code",
   "execution_count": 137,
   "metadata": {},
   "outputs": [],
   "source": [
    "# hyperparams = [\n",
    "#     {\n",
    "#         \"selection_method\": [\n",
    "#             \"correlation\",\n",
    "#         ],\n",
    "#         \"n_neurons\": [100, 200, 500, 1000, 5000],\n",
    "#         \"percentile\": [0.5, 0.8, 1],\n",
    "#     },\n",
    "#     {\n",
    "#         \"selection_method\": [\n",
    "#             \"logistic_regression\",\n",
    "#         ],\n",
    "#         \"n_neurons\": [100, 200, 500, 1000, 5000],\n",
    "#         \"percentile\": [0.5, 0.8, 1],\n",
    "#     },\n",
    "#     {\n",
    "#         \"selection_method\": [\n",
    "#             \"pca_correlation\",\n",
    "#         ],\n",
    "#         \"n_neurons\": [100, 200, 500, 1000, 5000],\n",
    "#         \"percentile\": [0.5, 0.8, 1],\n",
    "#     },\n",
    "#     {\n",
    "#         \"selection_method\": [\n",
    "#             \"pca_log_reg\",\n",
    "#         ],\n",
    "#         \"n_neurons\": [100, 200, 500, 1000, 5000],\n",
    "#         \"percentile\": [0.5, 0.8, 1],\n",
    "#     },\n",
    "# ]\n",
    "\n",
    "hyperparams = {\n",
    "    \"selection_method\": [\n",
    "        \"correlation\",\n",
    "        \"logistic_regression\",\n",
    "        \"pca_correlation\",\n",
    "        \"pca_log_reg\",\n",
    "    ],\n",
    "    \"n_neurons\": [100],\n",
    "    \"percentile\": [1],\n",
    "}\n"
   ]
  },
  {
   "cell_type": "code",
   "execution_count": 138,
   "metadata": {},
   "outputs": [
    {
     "data": {
      "text/plain": [
       "[{'n_neurons': 100, 'percentile': 1, 'selection_method': 'correlation'},\n",
       " {'n_neurons': 100,\n",
       "  'percentile': 1,\n",
       "  'selection_method': 'logistic_regression'},\n",
       " {'n_neurons': 100, 'percentile': 1, 'selection_method': 'pca_correlation'},\n",
       " {'n_neurons': 100, 'percentile': 1, 'selection_method': 'pca_log_reg'}]"
      ]
     },
     "execution_count": 138,
     "metadata": {},
     "output_type": "execute_result"
    }
   ],
   "source": [
    "# Import parameter grid\n",
    "from sklearn.model_selection import ParameterGrid\n",
    "\n",
    "list(ParameterGrid(hyperparams))"
   ]
  },
  {
   "cell_type": "code",
   "execution_count": 145,
   "metadata": {},
   "outputs": [],
   "source": [
    "df = pd.read_csv('output/hyperparam/results.csv')\n",
    "lda_df = pd.read_csv('output/hyperparam/lda_results.csv')"
   ]
  },
  {
   "cell_type": "code",
   "execution_count": 156,
   "metadata": {},
   "outputs": [
    {
     "data": {
      "text/html": [
       "<div>\n",
       "<style scoped>\n",
       "    .dataframe tbody tr th:only-of-type {\n",
       "        vertical-align: middle;\n",
       "    }\n",
       "\n",
       "    .dataframe tbody tr th {\n",
       "        vertical-align: top;\n",
       "    }\n",
       "\n",
       "    .dataframe thead th {\n",
       "        text-align: right;\n",
       "    }\n",
       "</style>\n",
       "<table border=\"1\" class=\"dataframe\">\n",
       "  <thead>\n",
       "    <tr style=\"text-align: right;\">\n",
       "      <th></th>\n",
       "      <th>layer_selection_method</th>\n",
       "      <th>n_layers</th>\n",
       "      <th>percentile</th>\n",
       "      <th>selection_method</th>\n",
       "      <th>n_negative</th>\n",
       "      <th>average_perplexity</th>\n",
       "      <th>output_filename</th>\n",
       "    </tr>\n",
       "  </thead>\n",
       "  <tbody>\n",
       "    <tr>\n",
       "      <th>0</th>\n",
       "      <td>correlation</td>\n",
       "      <td>1</td>\n",
       "      <td>0.5</td>\n",
       "      <td>lda</td>\n",
       "      <td>308</td>\n",
       "      <td>80.771672</td>\n",
       "      <td>output/hyperparam/dfs/lda_correlation_1_50.csv</td>\n",
       "    </tr>\n",
       "    <tr>\n",
       "      <th>1</th>\n",
       "      <td>correlation</td>\n",
       "      <td>1</td>\n",
       "      <td>0.8</td>\n",
       "      <td>lda</td>\n",
       "      <td>319</td>\n",
       "      <td>80.782465</td>\n",
       "      <td>output/hyperparam/dfs/lda_correlation_1_80.csv</td>\n",
       "    </tr>\n",
       "    <tr>\n",
       "      <th>2</th>\n",
       "      <td>correlation</td>\n",
       "      <td>1</td>\n",
       "      <td>1.0</td>\n",
       "      <td>lda</td>\n",
       "      <td>339</td>\n",
       "      <td>80.820993</td>\n",
       "      <td>output/hyperparam/dfs/lda_correlation_1_100.csv</td>\n",
       "    </tr>\n",
       "    <tr>\n",
       "      <th>3</th>\n",
       "      <td>correlation</td>\n",
       "      <td>10</td>\n",
       "      <td>0.5</td>\n",
       "      <td>lda</td>\n",
       "      <td>326</td>\n",
       "      <td>81.949816</td>\n",
       "      <td>output/hyperparam/dfs/lda_correlation_10_50.csv</td>\n",
       "    </tr>\n",
       "    <tr>\n",
       "      <th>4</th>\n",
       "      <td>correlation</td>\n",
       "      <td>10</td>\n",
       "      <td>0.8</td>\n",
       "      <td>lda</td>\n",
       "      <td>337</td>\n",
       "      <td>81.976154</td>\n",
       "      <td>output/hyperparam/dfs/lda_correlation_10_80.csv</td>\n",
       "    </tr>\n",
       "    <tr>\n",
       "      <th>5</th>\n",
       "      <td>correlation</td>\n",
       "      <td>10</td>\n",
       "      <td>1.0</td>\n",
       "      <td>lda</td>\n",
       "      <td>345</td>\n",
       "      <td>82.087765</td>\n",
       "      <td>output/hyperparam/dfs/lda_correlation_10_100.csv</td>\n",
       "    </tr>\n",
       "    <tr>\n",
       "      <th>6</th>\n",
       "      <td>correlation</td>\n",
       "      <td>25</td>\n",
       "      <td>0.5</td>\n",
       "      <td>lda</td>\n",
       "      <td>314</td>\n",
       "      <td>81.991766</td>\n",
       "      <td>output/hyperparam/dfs/lda_correlation_25_50.csv</td>\n",
       "    </tr>\n",
       "    <tr>\n",
       "      <th>7</th>\n",
       "      <td>correlation</td>\n",
       "      <td>25</td>\n",
       "      <td>0.8</td>\n",
       "      <td>lda</td>\n",
       "      <td>359</td>\n",
       "      <td>82.047800</td>\n",
       "      <td>output/hyperparam/dfs/lda_correlation_25_80.csv</td>\n",
       "    </tr>\n",
       "    <tr>\n",
       "      <th>8</th>\n",
       "      <td>correlation</td>\n",
       "      <td>25</td>\n",
       "      <td>1.0</td>\n",
       "      <td>lda</td>\n",
       "      <td>375</td>\n",
       "      <td>82.327919</td>\n",
       "      <td>output/hyperparam/dfs/lda_correlation_25_100.csv</td>\n",
       "    </tr>\n",
       "    <tr>\n",
       "      <th>9</th>\n",
       "      <td>correlation</td>\n",
       "      <td>49</td>\n",
       "      <td>0.5</td>\n",
       "      <td>lda</td>\n",
       "      <td>320</td>\n",
       "      <td>83.820453</td>\n",
       "      <td>output/hyperparam/dfs/lda_correlation_49_50.csv</td>\n",
       "    </tr>\n",
       "    <tr>\n",
       "      <th>10</th>\n",
       "      <td>correlation</td>\n",
       "      <td>49</td>\n",
       "      <td>0.8</td>\n",
       "      <td>lda</td>\n",
       "      <td>331</td>\n",
       "      <td>83.881077</td>\n",
       "      <td>output/hyperparam/dfs/lda_correlation_49_80.csv</td>\n",
       "    </tr>\n",
       "    <tr>\n",
       "      <th>11</th>\n",
       "      <td>correlation</td>\n",
       "      <td>49</td>\n",
       "      <td>1.0</td>\n",
       "      <td>lda</td>\n",
       "      <td>382</td>\n",
       "      <td>84.189329</td>\n",
       "      <td>output/hyperparam/dfs/lda_correlation_49_100.csv</td>\n",
       "    </tr>\n",
       "    <tr>\n",
       "      <th>12</th>\n",
       "      <td>logistic_regression</td>\n",
       "      <td>1</td>\n",
       "      <td>0.5</td>\n",
       "      <td>lda</td>\n",
       "      <td>326</td>\n",
       "      <td>80.902119</td>\n",
       "      <td>output/hyperparam/dfs/lda_logistic_regression_...</td>\n",
       "    </tr>\n",
       "    <tr>\n",
       "      <th>13</th>\n",
       "      <td>logistic_regression</td>\n",
       "      <td>1</td>\n",
       "      <td>0.8</td>\n",
       "      <td>lda</td>\n",
       "      <td>311</td>\n",
       "      <td>80.924412</td>\n",
       "      <td>output/hyperparam/dfs/lda_logistic_regression_...</td>\n",
       "    </tr>\n",
       "    <tr>\n",
       "      <th>14</th>\n",
       "      <td>logistic_regression</td>\n",
       "      <td>1</td>\n",
       "      <td>1.0</td>\n",
       "      <td>lda</td>\n",
       "      <td>294</td>\n",
       "      <td>81.000388</td>\n",
       "      <td>output/hyperparam/dfs/lda_logistic_regression_...</td>\n",
       "    </tr>\n",
       "    <tr>\n",
       "      <th>15</th>\n",
       "      <td>logistic_regression</td>\n",
       "      <td>10</td>\n",
       "      <td>0.5</td>\n",
       "      <td>lda</td>\n",
       "      <td>329</td>\n",
       "      <td>81.748610</td>\n",
       "      <td>output/hyperparam/dfs/lda_logistic_regression_...</td>\n",
       "    </tr>\n",
       "    <tr>\n",
       "      <th>16</th>\n",
       "      <td>logistic_regression</td>\n",
       "      <td>10</td>\n",
       "      <td>0.8</td>\n",
       "      <td>lda</td>\n",
       "      <td>311</td>\n",
       "      <td>81.800474</td>\n",
       "      <td>output/hyperparam/dfs/lda_logistic_regression_...</td>\n",
       "    </tr>\n",
       "    <tr>\n",
       "      <th>17</th>\n",
       "      <td>logistic_regression</td>\n",
       "      <td>10</td>\n",
       "      <td>1.0</td>\n",
       "      <td>lda</td>\n",
       "      <td>364</td>\n",
       "      <td>82.012884</td>\n",
       "      <td>output/hyperparam/dfs/lda_logistic_regression_...</td>\n",
       "    </tr>\n",
       "    <tr>\n",
       "      <th>18</th>\n",
       "      <td>logistic_regression</td>\n",
       "      <td>25</td>\n",
       "      <td>0.5</td>\n",
       "      <td>lda</td>\n",
       "      <td>329</td>\n",
       "      <td>82.042977</td>\n",
       "      <td>output/hyperparam/dfs/lda_logistic_regression_...</td>\n",
       "    </tr>\n",
       "    <tr>\n",
       "      <th>19</th>\n",
       "      <td>logistic_regression</td>\n",
       "      <td>25</td>\n",
       "      <td>0.8</td>\n",
       "      <td>lda</td>\n",
       "      <td>328</td>\n",
       "      <td>82.108553</td>\n",
       "      <td>output/hyperparam/dfs/lda_logistic_regression_...</td>\n",
       "    </tr>\n",
       "    <tr>\n",
       "      <th>20</th>\n",
       "      <td>logistic_regression</td>\n",
       "      <td>25</td>\n",
       "      <td>1.0</td>\n",
       "      <td>lda</td>\n",
       "      <td>385</td>\n",
       "      <td>82.431420</td>\n",
       "      <td>output/hyperparam/dfs/lda_logistic_regression_...</td>\n",
       "    </tr>\n",
       "    <tr>\n",
       "      <th>21</th>\n",
       "      <td>logistic_regression</td>\n",
       "      <td>49</td>\n",
       "      <td>0.5</td>\n",
       "      <td>lda</td>\n",
       "      <td>368</td>\n",
       "      <td>83.820453</td>\n",
       "      <td>output/hyperparam/dfs/lda_logistic_regression_...</td>\n",
       "    </tr>\n",
       "    <tr>\n",
       "      <th>22</th>\n",
       "      <td>logistic_regression</td>\n",
       "      <td>49</td>\n",
       "      <td>0.8</td>\n",
       "      <td>lda</td>\n",
       "      <td>316</td>\n",
       "      <td>83.881077</td>\n",
       "      <td>output/hyperparam/dfs/lda_logistic_regression_...</td>\n",
       "    </tr>\n",
       "    <tr>\n",
       "      <th>23</th>\n",
       "      <td>logistic_regression</td>\n",
       "      <td>49</td>\n",
       "      <td>1.0</td>\n",
       "      <td>lda</td>\n",
       "      <td>359</td>\n",
       "      <td>84.189329</td>\n",
       "      <td>output/hyperparam/dfs/lda_logistic_regression_...</td>\n",
       "    </tr>\n",
       "  </tbody>\n",
       "</table>\n",
       "</div>"
      ],
      "text/plain": [
       "   layer_selection_method  n_layers  percentile selection_method  n_negative  \\\n",
       "0             correlation         1         0.5              lda         308   \n",
       "1             correlation         1         0.8              lda         319   \n",
       "2             correlation         1         1.0              lda         339   \n",
       "3             correlation        10         0.5              lda         326   \n",
       "4             correlation        10         0.8              lda         337   \n",
       "5             correlation        10         1.0              lda         345   \n",
       "6             correlation        25         0.5              lda         314   \n",
       "7             correlation        25         0.8              lda         359   \n",
       "8             correlation        25         1.0              lda         375   \n",
       "9             correlation        49         0.5              lda         320   \n",
       "10            correlation        49         0.8              lda         331   \n",
       "11            correlation        49         1.0              lda         382   \n",
       "12    logistic_regression         1         0.5              lda         326   \n",
       "13    logistic_regression         1         0.8              lda         311   \n",
       "14    logistic_regression         1         1.0              lda         294   \n",
       "15    logistic_regression        10         0.5              lda         329   \n",
       "16    logistic_regression        10         0.8              lda         311   \n",
       "17    logistic_regression        10         1.0              lda         364   \n",
       "18    logistic_regression        25         0.5              lda         329   \n",
       "19    logistic_regression        25         0.8              lda         328   \n",
       "20    logistic_regression        25         1.0              lda         385   \n",
       "21    logistic_regression        49         0.5              lda         368   \n",
       "22    logistic_regression        49         0.8              lda         316   \n",
       "23    logistic_regression        49         1.0              lda         359   \n",
       "\n",
       "    average_perplexity                                    output_filename  \n",
       "0            80.771672     output/hyperparam/dfs/lda_correlation_1_50.csv  \n",
       "1            80.782465     output/hyperparam/dfs/lda_correlation_1_80.csv  \n",
       "2            80.820993    output/hyperparam/dfs/lda_correlation_1_100.csv  \n",
       "3            81.949816    output/hyperparam/dfs/lda_correlation_10_50.csv  \n",
       "4            81.976154    output/hyperparam/dfs/lda_correlation_10_80.csv  \n",
       "5            82.087765   output/hyperparam/dfs/lda_correlation_10_100.csv  \n",
       "6            81.991766    output/hyperparam/dfs/lda_correlation_25_50.csv  \n",
       "7            82.047800    output/hyperparam/dfs/lda_correlation_25_80.csv  \n",
       "8            82.327919   output/hyperparam/dfs/lda_correlation_25_100.csv  \n",
       "9            83.820453    output/hyperparam/dfs/lda_correlation_49_50.csv  \n",
       "10           83.881077    output/hyperparam/dfs/lda_correlation_49_80.csv  \n",
       "11           84.189329   output/hyperparam/dfs/lda_correlation_49_100.csv  \n",
       "12           80.902119  output/hyperparam/dfs/lda_logistic_regression_...  \n",
       "13           80.924412  output/hyperparam/dfs/lda_logistic_regression_...  \n",
       "14           81.000388  output/hyperparam/dfs/lda_logistic_regression_...  \n",
       "15           81.748610  output/hyperparam/dfs/lda_logistic_regression_...  \n",
       "16           81.800474  output/hyperparam/dfs/lda_logistic_regression_...  \n",
       "17           82.012884  output/hyperparam/dfs/lda_logistic_regression_...  \n",
       "18           82.042977  output/hyperparam/dfs/lda_logistic_regression_...  \n",
       "19           82.108553  output/hyperparam/dfs/lda_logistic_regression_...  \n",
       "20           82.431420  output/hyperparam/dfs/lda_logistic_regression_...  \n",
       "21           83.820453  output/hyperparam/dfs/lda_logistic_regression_...  \n",
       "22           83.881077  output/hyperparam/dfs/lda_logistic_regression_...  \n",
       "23           84.189329  output/hyperparam/dfs/lda_logistic_regression_...  "
      ]
     },
     "execution_count": 156,
     "metadata": {},
     "output_type": "execute_result"
    }
   ],
   "source": [
    "lda_df"
   ]
  },
  {
   "cell_type": "code",
   "execution_count": 155,
   "metadata": {},
   "outputs": [
    {
     "data": {
      "image/png": "[encoded data removed]",
      "text/plain": [
       "<Figure size 800x550 with 1 Axes>"
      ]
     },
     "metadata": {
      "image/png": {
       "height": 457,
       "width": 676
      }
     },
     "output_type": "display_data"
    }
   ],
   "source": [
    "# plt.scatter(df['n_negative'], df['average_perplexity'], alpha=0.5, edgecolors='none')\n",
    "plt.scatter(lda_df['n_negative'], lda_df['average_perplexity'], alpha=0.5, edgecolors='none')\n",
    "# Make the x axis logarithmic\n",
    "# plt.yscale('log')\n",
    "plt.show()"
   ]
  },
  {
   "cell_type": "code",
   "execution_count": null,
   "metadata": {},
   "outputs": [],
   "source": []
  }
 ],
 "metadata": {
  "interpreter": {
   "hash": "a4a98802ec3539a30fc29b6a5501d564d55ef8c2c667ad2e6cc264c7a3fdf048"
  },
  "kernelspec": {
   "display_name": "Python 3.8.3 ('pccl')",
   "language": "python",
   "name": "python3"
  },
  "language_info": {
   "codemirror_mode": {
    "name": "ipython",
    "version": 3
   },
   "file_extension": ".py",
   "mimetype": "text/x-python",
   "name": "python",
   "nbconvert_exporter": "python",
   "pygments_lexer": "ipython3",
   "version": "3.8.3"
  },
  "orig_nbformat": 4
 },
 "nbformat": 4,
 "nbformat_minor": 2
}
