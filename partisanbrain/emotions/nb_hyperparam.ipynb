{
 "cells": [
  {
   "cell_type": "code",
   "execution_count": 25,
   "metadata": {},
   "outputs": [],
   "source": [
    "from importlib import reload\n",
    "import perplexity\n",
    "reload(perplexity)\n",
    "from perplexity import PerplexityAnalyzer\n",
    "from transformers import GPT2Tokenizer\n",
    "from gpt2 import GPT2LMHeadModel\n",
    "import pandas as pd\n",
    "from neuron_selection import NeuronSelector\n",
    "from lda_neuron_selection import LdaNeuronSelector\n",
    "import numpy as np\n",
    "\n",
    "from matplotlib import pyplot as plt, rcParams\n",
    "from matplotlib_inline.backend_inline import set_matplotlib_formats\n",
    "\n",
    "rcParams[\"figure.figsize\"] = (8, 5)\n",
    "rcParams[\"figure.dpi\"] = 100\n",
    "set_matplotlib_formats(\"retina\")\n",
    "plt.style.use(\"seaborn\")"
   ]
  },
  {
   "cell_type": "code",
   "execution_count": 12,
   "metadata": {},
   "outputs": [],
   "source": [
    "tokenizer = GPT2Tokenizer.from_pretrained(\"gpt2-xl\")\n",
    "model = GPT2LMHeadModel.from_pretrained(\"gpt2-xl\")\n",
    "model.eval()\n",
    "\n",
    "perplexity_df = pd.read_csv(\"data/wiki.csv\")"
   ]
  },
  {
   "cell_type": "code",
   "execution_count": 13,
   "metadata": {},
   "outputs": [
    {
     "data": {
      "text/plain": [
       "1"
      ]
     },
     "execution_count": 13,
     "metadata": {},
     "output_type": "execute_result"
    }
   ],
   "source": [
    "tokenizer.add_special_tokens({'pad_token': '[PAD]'})"
   ]
  },
  {
   "cell_type": "code",
   "execution_count": 3,
   "metadata": {},
   "outputs": [],
   "source": [
    "neuron_selector = NeuronSelector()\n",
    "neurons_per_layer = neuron_selector.get_neurons_per_layer(n_neurons=100, percentile=0.8, method=\"correlation\")"
   ]
  },
  {
   "cell_type": "code",
   "execution_count": 8,
   "metadata": {},
   "outputs": [
    {
     "ename": "AttributeError",
     "evalue": "'LdaNeuronSelector' object has no attribute 'get_neurons_per_layer'",
     "output_type": "error",
     "traceback": [
      "\u001b[0;31m---------------------------------------------------------------------------\u001b[0m",
      "\u001b[0;31mAttributeError\u001b[0m                            Traceback (most recent call last)",
      "\u001b[0;32m/var/folders/_9/4j5cbwds7nnf_8v7w086mzwr0000gn/T/ipykernel_55076/3384601327.py\u001b[0m in \u001b[0;36m<module>\u001b[0;34m\u001b[0m\n\u001b[1;32m      1\u001b[0m \u001b[0mneuron_selector\u001b[0m \u001b[0;34m=\u001b[0m \u001b[0mLdaNeuronSelector\u001b[0m\u001b[0;34m(\u001b[0m\u001b[0mfilename\u001b[0m\u001b[0;34m=\u001b[0m\u001b[0;34m\"output/output.npz\"\u001b[0m\u001b[0;34m,\u001b[0m \u001b[0mpercentile\u001b[0m\u001b[0;34m=\u001b[0m\u001b[0;36m0.8\u001b[0m\u001b[0;34m)\u001b[0m\u001b[0;34m\u001b[0m\u001b[0;34m\u001b[0m\u001b[0m\n\u001b[0;32m----> 2\u001b[0;31m \u001b[0mneurons_per_layer\u001b[0m \u001b[0;34m=\u001b[0m \u001b[0mneuron_selector\u001b[0m\u001b[0;34m.\u001b[0m\u001b[0mget_neurons_per_layer\u001b[0m\u001b[0;34m(\u001b[0m\u001b[0mn_neurons\u001b[0m\u001b[0;34m=\u001b[0m\u001b[0;36m100\u001b[0m\u001b[0;34m)\u001b[0m\u001b[0;34m\u001b[0m\u001b[0;34m\u001b[0m\u001b[0m\n\u001b[0m",
      "\u001b[0;31mAttributeError\u001b[0m: 'LdaNeuronSelector' object has no attribute 'get_neurons_per_layer'"
     ]
    }
   ],
   "source": [
    "neuron_selector = LdaNeuronSelector(filename=\"output/output.npz\")\n",
    "neurons_per_layer = neuron_selector.get_lda_neurons_per_layer(n_layers=25, percentile=0.8, method=\"correlation\")"
   ]
  },
  {
   "cell_type": "code",
   "execution_count": 26,
   "metadata": {},
   "outputs": [],
   "source": [
    "perp_analyzer = PerplexityAnalyzer(model, tokenizer, df=perplexity_df.sample(10))"
   ]
  },
  {
   "cell_type": "code",
   "execution_count": 27,
   "metadata": {},
   "outputs": [
    {
     "data": {
      "text/plain": [
       "38026.860142534475"
      ]
     },
     "execution_count": 27,
     "metadata": {},
     "output_type": "execute_result"
    }
   ],
   "source": [
    "perp_analyzer.get_average_perplexity(neurons_per_layer=neurons_per_layer, force_emotion=\"negative\", force_with=\"per_neuron\")"
   ]
  },
  {
   "cell_type": "code",
   "execution_count": 28,
   "metadata": {},
   "outputs": [
    {
     "name": "stdout",
     "output_type": "stream",
     "text": [
      "[\"It tells the story of the making of Bandolier in the band's own words, including an extensive audio interview with Burke Shelley.\", 'Under his conditions it produces pitchers that are almost completley black.', \"Given that they're pulling out all the stops, they deserve all the acclaim that surrounded them for their first two albums.\", 'It was their second EP and, like their first EP, was released only in Australia.', 'Contains a detailed monograph on Schisandra chinensis as well as highlights health benefits.']\n"
     ]
    }
   ],
   "source": [
    "BATCH_SIZE = 5\n",
    "n_batches = len(perplexity_df) // BATCH_SIZE + 1\n",
    "batch = next(iter(np.array_split(perplexity_df, n_batches)))\n",
    "sentences = batch[\"sentence\"].values.tolist()\n",
    "print(sentences)"
   ]
  },
  {
   "cell_type": "code",
   "execution_count": null,
   "metadata": {},
   "outputs": [],
   "source": [
    "likelihood_sequence = self.process_sentence(\n",
    "    sentences,\n",
    "    neurons_per_layer=neurons_per_layer,\n",
    "    force_emotion=\"negative\",\n",
    "    force_with=\"per_neuron\",\n",
    ")"
   ]
  },
  {
   "cell_type": "code",
   "execution_count": 10,
   "metadata": {},
   "outputs": [
    {
     "data": {
      "text/html": [
       "<div>\n",
       "<style scoped>\n",
       "    .dataframe tbody tr th:only-of-type {\n",
       "        vertical-align: middle;\n",
       "    }\n",
       "\n",
       "    .dataframe tbody tr th {\n",
       "        vertical-align: top;\n",
       "    }\n",
       "\n",
       "    .dataframe thead th {\n",
       "        text-align: right;\n",
       "    }\n",
       "</style>\n",
       "<table border=\"1\" class=\"dataframe\">\n",
       "  <thead>\n",
       "    <tr style=\"text-align: right;\">\n",
       "      <th></th>\n",
       "      <th>num</th>\n",
       "    </tr>\n",
       "  </thead>\n",
       "  <tbody>\n",
       "    <tr>\n",
       "      <th>0</th>\n",
       "      <td>1</td>\n",
       "    </tr>\n",
       "    <tr>\n",
       "      <th>1</th>\n",
       "      <td>2</td>\n",
       "    </tr>\n",
       "    <tr>\n",
       "      <th>2</th>\n",
       "      <td>3</td>\n",
       "    </tr>\n",
       "  </tbody>\n",
       "</table>\n",
       "</div>"
      ],
      "text/plain": [
       "   num\n",
       "0    1\n",
       "1    2\n",
       "2    3"
      ]
     },
     "execution_count": 10,
     "metadata": {},
     "output_type": "execute_result"
    }
   ],
   "source": [
    "data = [1,2,3]\n",
    "columns = [\"num\"]\n",
    "\n",
    "pd.DataFrame(columns=columns, data=data)"
   ]
  },
  {
   "cell_type": "code",
   "execution_count": null,
   "metadata": {},
   "outputs": [],
   "source": []
  }
 ],
 "metadata": {
  "interpreter": {
   "hash": "a4a98802ec3539a30fc29b6a5501d564d55ef8c2c667ad2e6cc264c7a3fdf048"
  },
  "kernelspec": {
   "display_name": "Python 3.8.3 ('pccl')",
   "language": "python",
   "name": "python3"
  },
  "language_info": {
   "codemirror_mode": {
    "name": "ipython",
    "version": 3
   },
   "file_extension": ".py",
   "mimetype": "text/x-python",
   "name": "python",
   "nbconvert_exporter": "python",
   "pygments_lexer": "ipython3",
   "version": "3.8.3"
  },
  "orig_nbformat": 4
 },
 "nbformat": 4,
 "nbformat_minor": 2
}
